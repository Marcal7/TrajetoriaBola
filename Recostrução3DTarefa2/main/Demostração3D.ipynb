{
 "cells": [
  {
   "metadata": {},
   "cell_type": "markdown",
   "source": [
    "# Demonstração de Lógica\n",
    "\n",
    "Este documento apresenta uma visão geral da lógica inicial utilizada no projeto de animação 3D para rastreamento de trajetória da bola.\n",
    "\n",
    "---\n",
    "\n",
    "\n",
    "1. **Com a seguinte lógica não foi alcançada o objetio**  \n",
    "   **Não foi possível concluir o trabalho** com a lógica inicialmente proposta.\n",
    "   \n",
    "\n",
    "\n",
    "2. **Problemas com o Arquivo CSV**  \n",
    "   O arquivo CSV gerado **não refletiu a trajetória real da bola** conforme esperado.  \n",
    "\n",
    "\n",
    "\n",
    "3. **Resultado da Animação 3D**  \n",
    "   Ao realizar a animação 3D do arquivo CSV, os pontos exibidos correspondiam aos **pontos de calibração** em vez da trajetória da bola.\n",
    "\n",
    "\n",
    "---\n",
    "\n",
    "*Observação:* O arquivo que mostra a construção 3D da bola é -> **animação3D.py**\n",
    "\n",
    "*Observação2:* Alterar os caminhos para que os **arquivos sejam lidos**"
   ],
   "id": "7cecfd01a57e93bd"
  },
  {
   "cell_type": "code",
   "id": "initial_id",
   "metadata": {
    "collapsed": true,
    "ExecuteTime": {
     "end_time": "2024-11-05T12:21:54.601941Z",
     "start_time": "2024-11-05T12:21:54.588647Z"
    }
   },
   "source": [
    "import cv2\n",
    "import glob\n",
    "import pandas as pd\n",
    "import numpy as np"
   ],
   "outputs": [],
   "execution_count": 19
  },
  {
   "metadata": {
    "ExecuteTime": {
     "end_time": "2024-11-05T18:39:48.785278Z",
     "start_time": "2024-11-05T18:39:48.765586Z"
    }
   },
   "cell_type": "code",
   "source": [
    "# Carrega as imagens em ordem\n",
    "frames = sorted(glob.glob(\"caminho_das_imagens/*.png\"))\n",
    "\n",
    "# Configura o delay entre os frames (em milissegundos)\n",
    "delay = 30  # Ajuste para alterar a velocidade do loop\n",
    "\n",
    "for frame_path in frames:\n",
    "    frame = cv2.imread(frame_path)\n",
    "    cv2.imshow(\"Video\", frame)\n",
    "    if cv2.waitKey(delay) & 0xFF == ord('q'):  # Pressione 'q' para sair do loop\n",
    "        break\n",
    "\n",
    "cv2.destroyAllWindows()"
   ],
   "id": "5afe540381ff7ad4",
   "outputs": [],
   "execution_count": 44
  },
  {
   "metadata": {
    "ExecuteTime": {
     "end_time": "2024-11-05T12:39:09.246551Z",
     "start_time": "2024-11-05T12:39:09.216530Z"
    }
   },
   "cell_type": "code",
   "source": [
    "# Lendo os arquivos\n",
    "cp2d_c1 = pd.read_csv('C:/Users/55169/PycharmProjects/biomec_fut/Recostrução3DTarefa2/frames/c1cal/c1cal2rec3d.dat', delimiter=' ', header=None)\n",
    "cp2d_c2 = pd.read_csv('C:/Users/55169/PycharmProjects/biomec_fut/Recostrução3DTarefa2/frames/c2cal/c2cal2rec3d.dat', delimiter=' ', header=None)\n",
    "cp2dc1 = np.asarray(cp2d_c1)\n",
    "cp2dc2 = np.asarray(cp2d_c2)\n",
    "\n",
    "cp3d = pd.read_csv('ArquivosCSVTeste/ref3d_v2.ref', delimiter=' ', header=None)\n",
    "cp3d = np.asarray(cp3d)\n",
    "\n",
    "print(cp3d)"
   ],
   "id": "35e1aba8497738b1",
   "outputs": [
    {
     "name": "stdout",
     "output_type": "stream",
     "text": [
      "[[0.    0.    0.   ]\n",
      " [0.    1.466 0.   ]\n",
      " [0.781 1.466 0.   ]\n",
      " [0.781 0.    0.   ]\n",
      " [0.    0.    0.453]\n",
      " [0.    1.466 0.451]\n",
      " [0.781 1.466 0.447]\n",
      " [0.781 0.    0.45 ]\n",
      " [0.    0.    0.907]\n",
      " [0.    1.466 0.903]\n",
      " [0.781 1.466 0.902]\n",
      " [0.781 0.    0.903]]\n"
     ]
    }
   ],
   "execution_count": 33
  },
  {
   "metadata": {
    "ExecuteTime": {
     "end_time": "2024-11-05T12:23:44.949752Z",
     "start_time": "2024-11-05T12:23:44.928100Z"
    }
   },
   "cell_type": "code",
   "source": [
    "cp3d = np.asarray(cp3d, dtype=float)\n",
    "cp2d = np.asarray(cp2dc1, dtype=float)\n",
    "\n",
    "m = np.size(cp3d[:, 0], 0)\n",
    "M = np.zeros([m * 2, 11])\n",
    "N = np.zeros([m * 2, 1])\n",
    "\n",
    "for i in range(m):\n",
    "    M[i*2,:] = [cp3d[i,0], cp3d[i,1], cp3d[i,2] ,1, 0, 0, 0, 0, -cp2d[i, 0] * cp3d[i, 0], -cp2d[i, 0] * cp3d[i, 1], -cp2d[i, 0] * cp3d[i, 2]]\n",
    "    M[i*2+1,:] = [0 , 0, 0, 0, cp3d[i,0], cp3d[i,1], cp3d[i,2],1, -cp2d[i,1] * cp3d[i,0],-cp2d[i,1] * cp3d[i,1], -cp2d[i,1] * cp3d[i,2]]\n",
    "    N[[i*2,i*2+1],0] = cp2d[i, :]\n",
    "\n",
    "Mt = M.T\n",
    "M1 = np.linalg.pinv(Mt.dot(M))\n",
    "MN = Mt.dot(N)\n",
    "\n",
    "DLT_c1 = (M1).dot(MN).T\n",
    "\n",
    "print(DLT_c1)"
   ],
   "id": "371b459167ec5e52",
   "outputs": [
    {
     "name": "stdout",
     "output_type": "stream",
     "text": [
      "[[-9.58777685e+01  1.53073599e+02 -9.09483052e+00  2.20036316e+02\n",
      "   1.44604193e+01 -1.98849076e-01 -1.62701631e+02  1.62456869e+02\n",
      "  -8.11031539e-02 -3.29078205e-02 -1.08117311e-02]]\n"
     ]
    }
   ],
   "execution_count": 26
  },
  {
   "metadata": {
    "ExecuteTime": {
     "end_time": "2024-11-05T12:26:40.184377Z",
     "start_time": "2024-11-05T12:26:40.152992Z"
    }
   },
   "cell_type": "code",
   "source": [
    "cp3d = np.asarray(cp3d, dtype=float)\n",
    "cp2d = np.asarray(cp2dc2, dtype=float)\n",
    "\n",
    "m = np.size(cp3d[:, 0], 0)\n",
    "M = np.zeros([m * 2, 11])\n",
    "N = np.zeros([m * 2, 1])\n",
    "\n",
    "for i in range(m):\n",
    "    M[i*2,:] = [cp3d[i,0], cp3d[i,1], cp3d[i,2] ,1, 0, 0, 0, 0, -cp2d[i, 0] * cp3d[i, 0], -cp2d[i, 0] * cp3d[i, 1], -cp2d[i, 0] * cp3d[i, 2]]\n",
    "    M[i*2+1,:] = [0 , 0, 0, 0, cp3d[i,0], cp3d[i,1], cp3d[i,2],1, -cp2d[i,1] * cp3d[i,0],-cp2d[i,1] * cp3d[i,1], -cp2d[i,1] * cp3d[i,2]]\n",
    "    N[[i*2,i*2+1],0] = cp2d[i, :]\n",
    "\n",
    "Mt = M.T\n",
    "M1 = np.linalg.pinv(Mt.dot(M))\n",
    "MN = Mt.dot(N)\n",
    "\n",
    "DLT_c2 = (M1).dot(MN).T\n",
    "\n",
    "print(DLT_c2)"
   ],
   "id": "acc794e4f1e45826",
   "outputs": [
    {
     "name": "stdout",
     "output_type": "stream",
     "text": [
      "[[ 3.76874916e+01  1.72851718e+02 -1.00674129e+01  1.92488518e+02\n",
      "   1.14185135e+01 -9.45539638e+00 -1.59289522e+02  1.68360007e+02\n",
      "  -9.33700937e-02  3.72583538e-02 -1.48028025e-02]]\n"
     ]
    }
   ],
   "execution_count": 27
  },
  {
   "metadata": {
    "ExecuteTime": {
     "end_time": "2024-11-05T13:59:26.219283Z",
     "start_time": "2024-11-05T13:59:26.187524Z"
    }
   },
   "cell_type": "code",
   "source": [
    "def r3d(DLTs, cc2ds):\n",
    "    # Montar sistema para triangulação a partir das duas visualizações DLT\n",
    "    A = np.vstack([\n",
    "        (DLTs[0, :3] - cc2ds[0, 0] * DLTs[0, 8:11]),\n",
    "        (DLTs[0, 4:7] - cc2ds[0, 1] * DLTs[0, 8:11]),\n",
    "        (DLTs[1, :3] - cc2ds[1, 0] * DLTs[1, 8:11]),\n",
    "        (DLTs[1, 4:7] - cc2ds[1, 1] * DLTs[1, 8:11])\n",
    "    ])\n",
    "    B = np.array([\n",
    "        cc2ds[0, 0] - DLTs[0, 3],\n",
    "        cc2ds[0, 1] - DLTs[0, 7],\n",
    "        cc2ds[1, 0] - DLTs[1, 3],\n",
    "        cc2ds[1, 1] - DLTs[1, 7]\n",
    "    ])\n",
    "\n",
    "    # Resolver para obter coordenadas 3D\n",
    "    coord_3d, _, _, _ = np.linalg.lstsq(A, B, rcond=None)\n",
    "    return coord_3d\n",
    "\n",
    "\n",
    "# Concatenação das calibrações DLT\n",
    "DLTs = np.vstack([DLT_c1, DLT_c2])\n",
    "print(DLTs)"
   ],
   "id": "712281f5d71af831",
   "outputs": [
    {
     "name": "stdout",
     "output_type": "stream",
     "text": [
      "[[-9.58777685e+01  1.53073599e+02 -9.09483052e+00  2.20036316e+02\n",
      "   1.44604193e+01 -1.98849076e-01 -1.62701631e+02  1.62456869e+02\n",
      "  -8.11031539e-02 -3.29078205e-02 -1.08117311e-02]\n",
      " [ 3.76874916e+01  1.72851718e+02 -1.00674129e+01  1.92488518e+02\n",
      "   1.14185135e+01 -9.45539638e+00 -1.59289522e+02  1.68360007e+02\n",
      "  -9.33700937e-02  3.72583538e-02 -1.48028025e-02]]\n"
     ]
    }
   ],
   "execution_count": 37
  },
  {
   "metadata": {
    "ExecuteTime": {
     "end_time": "2024-11-05T14:14:05.514213Z",
     "start_time": "2024-11-05T14:14:02.651308Z"
    }
   },
   "cell_type": "code",
   "source": [
    "import sys\n",
    "\n",
    "# Matriz para coordenadas 3D reconstruídas\n",
    "cc3d = np.zeros((len(cp2dc1), 3))\n",
    "for i in range(len(cp2dc1)):\n",
    "    # Combinação dos pontos 2D de cada câmera para o ponto i\n",
    "    cc2ds = np.vstack([cp2dc1[i, :], cp2dc2[i, :]])\n",
    "    # Calcula as coordenadas 3D para o ponto i\n",
    "    cc3d[i, :] = r3d(DLTs, cc2ds).T\n",
    "\n",
    "# Salvamento das coordenadas 3D em um arquivo\n",
    "output_file = sys.argv[4] if len(sys.argv) > 4 else \"resultado_3d\"\n",
    "np.savetxt(output_file + '.3d', cc3d, fmt='%.10f')"
   ],
   "id": "5b276ecd7e65845d",
   "outputs": [
    {
     "ename": "ValueError",
     "evalue": "Length mismatch: Expected axis has 1 elements, new values have 3 elements",
     "output_type": "error",
     "traceback": [
      "\u001B[1;31m---------------------------------------------------------------------------\u001B[0m",
      "\u001B[1;31mValueError\u001B[0m                                Traceback (most recent call last)",
      "Cell \u001B[1;32mIn[41], line 17\u001B[0m\n\u001B[0;32m     13\u001B[0m np\u001B[38;5;241m.\u001B[39msavetxt(output_file \u001B[38;5;241m+\u001B[39m \u001B[38;5;124m'\u001B[39m\u001B[38;5;124m.3d\u001B[39m\u001B[38;5;124m'\u001B[39m, cc3d, fmt\u001B[38;5;241m=\u001B[39m\u001B[38;5;124m'\u001B[39m\u001B[38;5;132;01m%.10f\u001B[39;00m\u001B[38;5;124m'\u001B[39m)\n\u001B[0;32m     15\u001B[0m df \u001B[38;5;241m=\u001B[39m pd\u001B[38;5;241m.\u001B[39mread_csv(\u001B[38;5;124m'\u001B[39m\u001B[38;5;124mresultado_3d.3d\u001B[39m\u001B[38;5;124m'\u001B[39m, header\u001B[38;5;241m=\u001B[39m\u001B[38;5;28;01mNone\u001B[39;00m)\n\u001B[1;32m---> 17\u001B[0m \u001B[43mdf\u001B[49m\u001B[38;5;241;43m.\u001B[39;49m\u001B[43mcolumns\u001B[49m \u001B[38;5;241m=\u001B[39m [\u001B[38;5;124m'\u001B[39m\u001B[38;5;124mx\u001B[39m\u001B[38;5;124m'\u001B[39m, \u001B[38;5;124m'\u001B[39m\u001B[38;5;124my\u001B[39m\u001B[38;5;124m'\u001B[39m, \u001B[38;5;124m'\u001B[39m\u001B[38;5;124mz\u001B[39m\u001B[38;5;124m'\u001B[39m]\n\u001B[0;32m     19\u001B[0m \u001B[38;5;66;03m# Salvar o arquivo novamente\u001B[39;00m\n\u001B[0;32m     20\u001B[0m df\u001B[38;5;241m.\u001B[39mto_csv(\u001B[38;5;124m'\u001B[39m\u001B[38;5;124mresultado_3d.3d\u001B[39m\u001B[38;5;124m'\u001B[39m, index\u001B[38;5;241m=\u001B[39m\u001B[38;5;28;01mFalse\u001B[39;00m)\n",
      "File \u001B[1;32m~\\PycharmProjects\\biomec_fut\\.venv\\lib\\site-packages\\pandas\\core\\generic.py:6313\u001B[0m, in \u001B[0;36mNDFrame.__setattr__\u001B[1;34m(self, name, value)\u001B[0m\n\u001B[0;32m   6311\u001B[0m \u001B[38;5;28;01mtry\u001B[39;00m:\n\u001B[0;32m   6312\u001B[0m     \u001B[38;5;28mobject\u001B[39m\u001B[38;5;241m.\u001B[39m\u001B[38;5;21m__getattribute__\u001B[39m(\u001B[38;5;28mself\u001B[39m, name)\n\u001B[1;32m-> 6313\u001B[0m     \u001B[38;5;28;01mreturn\u001B[39;00m \u001B[38;5;28;43mobject\u001B[39;49m\u001B[38;5;241;43m.\u001B[39;49m\u001B[38;5;21;43m__setattr__\u001B[39;49m\u001B[43m(\u001B[49m\u001B[38;5;28;43mself\u001B[39;49m\u001B[43m,\u001B[49m\u001B[43m \u001B[49m\u001B[43mname\u001B[49m\u001B[43m,\u001B[49m\u001B[43m \u001B[49m\u001B[43mvalue\u001B[49m\u001B[43m)\u001B[49m\n\u001B[0;32m   6314\u001B[0m \u001B[38;5;28;01mexcept\u001B[39;00m \u001B[38;5;167;01mAttributeError\u001B[39;00m:\n\u001B[0;32m   6315\u001B[0m     \u001B[38;5;28;01mpass\u001B[39;00m\n",
      "File \u001B[1;32mproperties.pyx:69\u001B[0m, in \u001B[0;36mpandas._libs.properties.AxisProperty.__set__\u001B[1;34m()\u001B[0m\n",
      "File \u001B[1;32m~\\PycharmProjects\\biomec_fut\\.venv\\lib\\site-packages\\pandas\\core\\generic.py:814\u001B[0m, in \u001B[0;36mNDFrame._set_axis\u001B[1;34m(self, axis, labels)\u001B[0m\n\u001B[0;32m    809\u001B[0m \u001B[38;5;250m\u001B[39m\u001B[38;5;124;03m\"\"\"\u001B[39;00m\n\u001B[0;32m    810\u001B[0m \u001B[38;5;124;03mThis is called from the cython code when we set the `index` attribute\u001B[39;00m\n\u001B[0;32m    811\u001B[0m \u001B[38;5;124;03mdirectly, e.g. `series.index = [1, 2, 3]`.\u001B[39;00m\n\u001B[0;32m    812\u001B[0m \u001B[38;5;124;03m\"\"\"\u001B[39;00m\n\u001B[0;32m    813\u001B[0m labels \u001B[38;5;241m=\u001B[39m ensure_index(labels)\n\u001B[1;32m--> 814\u001B[0m \u001B[38;5;28;43mself\u001B[39;49m\u001B[38;5;241;43m.\u001B[39;49m\u001B[43m_mgr\u001B[49m\u001B[38;5;241;43m.\u001B[39;49m\u001B[43mset_axis\u001B[49m\u001B[43m(\u001B[49m\u001B[43maxis\u001B[49m\u001B[43m,\u001B[49m\u001B[43m \u001B[49m\u001B[43mlabels\u001B[49m\u001B[43m)\u001B[49m\n\u001B[0;32m    815\u001B[0m \u001B[38;5;28mself\u001B[39m\u001B[38;5;241m.\u001B[39m_clear_item_cache()\n",
      "File \u001B[1;32m~\\PycharmProjects\\biomec_fut\\.venv\\lib\\site-packages\\pandas\\core\\internals\\managers.py:238\u001B[0m, in \u001B[0;36mBaseBlockManager.set_axis\u001B[1;34m(self, axis, new_labels)\u001B[0m\n\u001B[0;32m    236\u001B[0m \u001B[38;5;28;01mdef\u001B[39;00m \u001B[38;5;21mset_axis\u001B[39m(\u001B[38;5;28mself\u001B[39m, axis: AxisInt, new_labels: Index) \u001B[38;5;241m-\u001B[39m\u001B[38;5;241m>\u001B[39m \u001B[38;5;28;01mNone\u001B[39;00m:\n\u001B[0;32m    237\u001B[0m     \u001B[38;5;66;03m# Caller is responsible for ensuring we have an Index object.\u001B[39;00m\n\u001B[1;32m--> 238\u001B[0m     \u001B[38;5;28;43mself\u001B[39;49m\u001B[38;5;241;43m.\u001B[39;49m\u001B[43m_validate_set_axis\u001B[49m\u001B[43m(\u001B[49m\u001B[43maxis\u001B[49m\u001B[43m,\u001B[49m\u001B[43m \u001B[49m\u001B[43mnew_labels\u001B[49m\u001B[43m)\u001B[49m\n\u001B[0;32m    239\u001B[0m     \u001B[38;5;28mself\u001B[39m\u001B[38;5;241m.\u001B[39maxes[axis] \u001B[38;5;241m=\u001B[39m new_labels\n",
      "File \u001B[1;32m~\\PycharmProjects\\biomec_fut\\.venv\\lib\\site-packages\\pandas\\core\\internals\\base.py:98\u001B[0m, in \u001B[0;36mDataManager._validate_set_axis\u001B[1;34m(self, axis, new_labels)\u001B[0m\n\u001B[0;32m     95\u001B[0m     \u001B[38;5;28;01mpass\u001B[39;00m\n\u001B[0;32m     97\u001B[0m \u001B[38;5;28;01melif\u001B[39;00m new_len \u001B[38;5;241m!=\u001B[39m old_len:\n\u001B[1;32m---> 98\u001B[0m     \u001B[38;5;28;01mraise\u001B[39;00m \u001B[38;5;167;01mValueError\u001B[39;00m(\n\u001B[0;32m     99\u001B[0m         \u001B[38;5;124mf\u001B[39m\u001B[38;5;124m\"\u001B[39m\u001B[38;5;124mLength mismatch: Expected axis has \u001B[39m\u001B[38;5;132;01m{\u001B[39;00mold_len\u001B[38;5;132;01m}\u001B[39;00m\u001B[38;5;124m elements, new \u001B[39m\u001B[38;5;124m\"\u001B[39m\n\u001B[0;32m    100\u001B[0m         \u001B[38;5;124mf\u001B[39m\u001B[38;5;124m\"\u001B[39m\u001B[38;5;124mvalues have \u001B[39m\u001B[38;5;132;01m{\u001B[39;00mnew_len\u001B[38;5;132;01m}\u001B[39;00m\u001B[38;5;124m elements\u001B[39m\u001B[38;5;124m\"\u001B[39m\n\u001B[0;32m    101\u001B[0m     )\n",
      "\u001B[1;31mValueError\u001B[0m: Length mismatch: Expected axis has 1 elements, new values have 3 elements"
     ]
    }
   ],
   "execution_count": 41
  },
  {
   "metadata": {
    "ExecuteTime": {
     "end_time": "2024-11-05T14:15:58.011963Z",
     "start_time": "2024-11-05T14:15:57.972630Z"
    }
   },
   "cell_type": "code",
   "source": [
    "import pandas as pd\n",
    "\n",
    "# Dados em formato de lista de listas (x, y, z)\n",
    "data = [\n",
    "    [0.0040106947, 0.0015723420, -0.0030787177],\n",
    "    [0.0013577771, 1.4664854801, -0.0002735988],\n",
    "    [0.7795888697, 1.4656860931, 0.0018643966],\n",
    "    [0.7783916434, -0.0011725959, 0.0016910908],\n",
    "    [-0.0015136300, -0.0004110298, 0.4560298090],\n",
    "    [-0.0009480190, 1.4654112549, 0.4498028610],\n",
    "    [0.7801485113, 1.4676494051, 0.4457739917],\n",
    "    [0.7823768501, -0.0016201126, 0.4491580508],\n",
    "    [0.0002223801, 0.0008604146, 0.9077355926],\n",
    "    [-0.0032767218, 1.4643818640, 0.9040679840],\n",
    "    [0.7859380844, 1.4664276938, 0.9016854732],\n",
    "    [0.7797204633, 0.0007359349, 0.9015623193]\n",
    "]\n",
    "\n",
    "# Criar um DataFrame e definir colunas x, y, z\n",
    "df = pd.DataFrame(data, columns=['x', 'y', 'z'])\n",
    "\n",
    "# Salvar o DataFrame em um arquivo CSV\n",
    "df.to_csv('resultado_3d.3d', index=False)"
   ],
   "id": "9e03af9d491b3bb8",
   "outputs": [],
   "execution_count": 42
  }
 ],
 "metadata": {
  "kernelspec": {
   "display_name": "Python 3",
   "language": "python",
   "name": "python3"
  },
  "language_info": {
   "codemirror_mode": {
    "name": "ipython",
    "version": 2
   },
   "file_extension": ".py",
   "mimetype": "text/x-python",
   "name": "python",
   "nbconvert_exporter": "python",
   "pygments_lexer": "ipython2",
   "version": "2.7.6"
  }
 },
 "nbformat": 4,
 "nbformat_minor": 5
}
